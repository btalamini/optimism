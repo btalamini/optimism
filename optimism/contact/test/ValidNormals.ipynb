{
 "cells": [
  {
   "cell_type": "code",
   "execution_count": 31,
   "id": "405f6340-c675-49d1-9d4c-c62550fde0ae",
   "metadata": {},
   "outputs": [],
   "source": [
    "import numpy as np\n",
    "from matplotlib import pyplot as plt\n",
    "\n",
    "\n",
    "def compute_normal(edgeCoords):\n",
    "    tangent = edgeCoords[1]-edgeCoords[0]\n",
    "    normal = jnp.array([tangent[1], -tangent[0]])\n",
    "    return normal / jnp.linalg.norm(normal)\n",
    "\n",
    "    \n",
    "x0 = np.array([0.0, 0.0])\n",
    "x1 = np.array([1.0, 0.0])\n",
    "x2 = np.array([1.0, 1.0])\n",
    "\n",
    "edge1 = np.array([x0, x1])\n",
    "edge2 = np.array([x1, x2])\n",
    "\n",
    "\n",
    "#plt.plot(n1)\n",
    "#plt.plot(n2)\n",
    "#plt.axis('equal')\n",
    "#plt.show()\n",
    "\n",
    "dot1 = -n1@n2\n",
    "dot2 = -n1@n3\n",
    "dot3 = -n1@n4\n",
    "\n",
    "def potential_contact(n1,n2):\n",
    "    dot = n1@n2\n",
    "    return -dot >= -0.7071067811865475 and -dot <= 1.0\n",
    "\n",
    "\n"
   ]
  },
  {
   "cell_type": "code",
   "execution_count": 32,
   "id": "be7b04fe-034b-456f-b7b7-d3deebd42ec6",
   "metadata": {},
   "outputs": [
    {
     "data": {
      "text/plain": [
       "np.True_"
      ]
     },
     "execution_count": 32,
     "metadata": {},
     "output_type": "execute_result"
    }
   ],
   "source": [
    "potential_contact(n1,n4)\n",
    "#[dot1,dot2,dot3]"
   ]
  }
 ],
 "metadata": {
  "kernelspec": {
   "display_name": "Python 3 (ipykernel)",
   "language": "python",
   "name": "python3"
  },
  "language_info": {
   "codemirror_mode": {
    "name": "ipython",
    "version": 3
   },
   "file_extension": ".py",
   "mimetype": "text/x-python",
   "name": "python",
   "nbconvert_exporter": "python",
   "pygments_lexer": "ipython3",
   "version": "3.12.8"
  }
 },
 "nbformat": 4,
 "nbformat_minor": 5
}
