{
 "cells": [
  {
   "attachments": {},
   "cell_type": "markdown",
   "metadata": {},
   "source": [
    "# Eigenvalue sensitivity in a nonlinear problem\n",
    "\n",
    "## Introduction\n",
    "\n",
    "The vibration characteristics of linear systems do not change with the applied loads (by definition). However, real systems often do have nonlinear effects that influence their spectrum. Quantifying these sensitivities can be useful for determining design margins and for designing structures and meta-materials to have useful filtering properties. This notebook explores this idea in a simple problem and illustrates how the tools of OptimiSM and Jax can be brought to bear.\n",
    "\n",
    "This notebook generalizes the previous example to the spectral analysis of a finitely deformed, hyperelastic structure. In doing so, we will get a glimpse at one of the nonlinear optimization-based solvers in OptimiSM. It concludes with a more interesting nonlinear eigenvalue sensitivity that requires an adjoint solve."
   ]
  },
  {
   "cell_type": "code",
   "execution_count": 4,
   "metadata": {},
   "outputs": [],
   "source": [
    "import functools\n",
    "import jax\n",
    "import jax.numpy as np\n",
    "import numpy as onp\n",
    "from scipy.sparse import linalg\n",
    "from sksparse import cholmod\n",
    "\n",
    "from optimism import Mesh\n",
    "from optimism import EquationSolver\n",
    "from optimism import FunctionSpace\n",
    "from optimism.FunctionSpace import DofManager, EssentialBC\n",
    "from optimism import Mechanics\n",
    "from optimism.material import Neohookean\n",
    "from optimism import Objective\n",
    "from optimism import VTKWriter\n",
    "from optimism import QuadratureRule\n",
    "from optimism import SparseMatrixAssembler\n",
    "from optimism import Surface"
   ]
  },
  {
   "attachments": {},
   "cell_type": "markdown",
   "metadata": {},
   "source": [
    "The geometry is the same as the in the linear example: a cantilevered plate of span $L=10$ and thickness $h = 1$. The setup procedure is nearly identical to the linear problem, so we'll pass over it without much comment. The significant changes are the following:\n",
    "\n",
    "1. A sideset is created on the top edge of the plate, which will be used to define a traction.\n",
    "2. We choose linear elements this time for comparison (actually, we omit the `elementOrder` argument which yields linear elements by default).\n",
    "3. Let's keep the number of degrees of freedom the same as the linear problem, so we'll double the number of element intervals in both directions."
   ]
  },
  {
   "cell_type": "code",
   "execution_count": 5,
   "metadata": {},
   "outputs": [],
   "source": [
    "h = 1.0\n",
    "L = 10.0\n",
    "mesh = Mesh.construct_structured_mesh(Nx=8, Ny=80, xExtent=[0.0, h], yExtent=[0.0, L])\n",
    "nodeTol = 1e-8\n",
    "\n",
    "nodeSets = {'bottom': np.flatnonzero(mesh.coords[:,1] < 0 + nodeTol),\n",
    "            'top': np.flatnonzero(mesh.coords[:,1] > L - nodeTol)}\n",
    "\n",
    "def is_edge_on_top(xyOnEdge):\n",
    "    return np.all(xyOnEdge[:,1] > L - nodeTol)\n",
    "\n",
    "sideSets = {'top': Surface.create_edges(mesh.coords, mesh.conns, is_edge_on_top)}\n",
    "\n",
    "mesh = Mesh.construct_mesh_from_basic_data(mesh.coords, mesh.conns, mesh.blocks, nodeSets, sideSets)\n",
    "\n",
    "quadRule = QuadratureRule.create_quadrature_rule_on_triangle(degree=2)\n",
    "fs = FunctionSpace.construct_function_space(mesh, quadRule)\n",
    "\n",
    "ebcs = [EssentialBC(nodeSet='bottom', component=0),\n",
    "        EssentialBC(nodeSet='bottom', component=1)]\n",
    "\n",
    "dofManager = DofManager(fs, dim=2, EssentialBCs=ebcs)\n"
   ]
  },
  {
   "attachments": {},
   "cell_type": "markdown",
   "metadata": {},
   "source": [
    "In contrast to the linear example, we'll make the material Neo-Hookean this time to incorporate material and geometric nonlinearity:"
   ]
  },
  {
   "cell_type": "code",
   "execution_count": 6,
   "metadata": {},
   "outputs": [],
   "source": [
    "E = 5.0\n",
    "nu = 0.25\n",
    "rho = 1.0\n",
    "props = {'elastic modulus': E,\n",
    "         'poisson ratio': nu,\n",
    "         'density': rho}\n",
    "material = Neohookean.create_material_model_functions(props)"
   ]
  },
  {
   "attachments": {},
   "cell_type": "markdown",
   "metadata": {},
   "source": [
    "As before, we instantiate the physics modules:"
   ]
  },
  {
   "cell_type": "code",
   "execution_count": 7,
   "metadata": {},
   "outputs": [],
   "source": [
    "solidMechanics = Mechanics.create_mechanics_functions(fs, 'plane strain', material)\n",
    "solidDynamics = Mechanics.create_dynamics_functions(fs, 'plane strain', material, Mechanics.NewmarkParameters)"
   ]
  },
  {
   "attachments": {},
   "cell_type": "markdown",
   "metadata": {},
   "source": [
    "As in the previous example, we will perform spectral analyses on the plate. However, unlike the previous example, we are going to solve a forward problem as well. In OptimiSM, physics problems are specified by writing their potential functions, which are then minimized to find the solution. We'll set up the potential now.\n",
    "\n",
    "> 📝 Note: You might be worried that this optimization-based formulation excludes path-dependent materials and dynamics, but in fact they can be treated with time-discrete potentials. This is a subject for another day.\n",
    "\n",
    "We will load the plate with a uniform vertical traction on the top edge so that the plate stretches in the $y$-direction. We can parameterize it by the total applied force (per unit depth) $F$. Mathematically, the traction on the top surface is thus\n",
    "\\begin{equation}\n",
    "    \\bar{\\mathbf{t}}(F) = \\frac{F}{h} \\mathbf{e}_2,\n",
    "\\end{equation}\n",
    "where $\\mathbf{e}_2$ is the unit vector for the $y$-direction.\n",
    "On the left and right edges, the traction is the zero function.\n",
    "\n",
    "The potential energy will need to include the potential of this load, so let's create a surface quadrature rule that can integrate it:"
   ]
  },
  {
   "cell_type": "code",
   "execution_count": 8,
   "metadata": {},
   "outputs": [],
   "source": [
    "surfaceQuadRule = QuadratureRule.create_quadrature_rule_1D(degree=1)"
   ]
  },
  {
   "attachments": {},
   "cell_type": "markdown",
   "metadata": {},
   "source": [
    "Now we can express the potential energy function. The `solidMechanics` functional does the actual integrating."
   ]
  },
  {
   "cell_type": "code",
   "execution_count": 9,
   "metadata": {},
   "outputs": [],
   "source": [
    "def compute_potential_energy(Uu, p):\n",
    "    U = dofManager.create_field(Uu)\n",
    "    F = p[0]\n",
    "    internalVariables = p[1]\n",
    "    traction_function = lambda X, N: np.array([0.0, F/h])\n",
    "    V = Mechanics.compute_traction_potential_energy(fs, U, surfaceQuadRule, \n",
    "                                                    mesh.sideSets['top'], traction_function)\n",
    "    W = solidMechanics.compute_strain_energy(U, internalVariables)\n",
    "    return W + V"
   ]
  },
  {
   "attachments": {},
   "cell_type": "markdown",
   "metadata": {},
   "source": [
    "We don't need the kinetic energy in our forward problem, since it's quasi-static, but it will be needed for the eigenvalue analyses, so let's code it now. Note that the `solidDynamics` module is doing all the work; all we're doing here is managing the difference between vectors of unknowns (which exclude essential boundary conditions) and the full set of degrees of freedom on the mesh."
   ]
  },
  {
   "cell_type": "code",
   "execution_count": 10,
   "metadata": {},
   "outputs": [],
   "source": [
    "\n",
    "def compute_kinetic_energy(Vu):\n",
    "    V = dofManager.create_field(Vu)\n",
    "    return solidDynamics.compute_output_kinetic_energy(V)"
   ]
  },
  {
   "attachments": {},
   "cell_type": "markdown",
   "metadata": {},
   "source": [
    "One last preliminary step: we will create an object of class `Objective`, which stores the objective function for our forward analysis (the potential energy) and has all the operators the solver will need on it: the gradient (which is the residual operator), the action of the hessian on vectors, and other similar things. We'll use a sparse Cholesky factorization of the stiffness matrix as the preconditioner for the linear solver (which is conjugate gradient in this case)."
   ]
  },
  {
   "cell_type": "code",
   "execution_count": 13,
   "metadata": {},
   "outputs": [],
   "source": [
    "def assemble_sparse_stiffness_matrix(Uu, p):\n",
    "    U = dofManager.create_field(Uu)\n",
    "    internalVariables = p.state_data\n",
    "    elementStiffnesses = solidMechanics.compute_element_stiffnesses(U, internalVariables)\n",
    "    return SparseMatrixAssembler.assemble_sparse_stiffness_matrix(\n",
    "        elementStiffnesses, mesh.conns, dofManager)\n",
    "\n",
    "precondStrategy = Objective.PrecondStrategy(assemble_sparse_stiffness_matrix)\n",
    "\n",
    "Uu = np.zeros(dofManager.get_unknown_size()) # set initial unknown displacements to zero\n",
    "state = solidMechanics.compute_initial_state() # initialize internal state variables\n",
    "force = 0.0 # initialize applied force\n",
    "p = Objective.Params(force, state)\n",
    "\n",
    "objective = Objective.Objective(compute_potential_energy, Uu, p, precondStrategy)\n"
   ]
  },
  {
   "attachments": {},
   "cell_type": "markdown",
   "metadata": {},
   "source": [
    "## Spectral analysis\n",
    "\n",
    "This time, instead of explicitly computing the stiffness and mass matrices for the spectral analysis, we'll compute the action of these operations implicitly using the finite element assembly procedure.\n",
    "\n",
    "First up is the stiffness matrix operator. Here we see a use of the `Objective` object: it already has the Hessian-on-vector operation we want, and it helpfully has instructed Jax to apply just-in-time compilation on it. The SciPy eigensolvers take in the action of matrices with its `LinearOperator` type. (The `asarray` function is needed to cast the Jax arrays into \"regular\" NumPy arrays. The Jax arrays carry metadata that make them incompatible with most NumPy and SciPy functions. The `asarray` operator casts to NumPy `ndarray` while avoiding a deep copy.)"
   ]
  },
  {
   "cell_type": "code",
   "execution_count": 14,
   "metadata": {},
   "outputs": [],
   "source": [
    "\n",
    "n = dofManager.get_unknown_size()\n",
    "\n",
    "K = linalg.LinearOperator((n, n), lambda V: onp.asarray(objective.hessian_vec(Uu, V)))\n"
   ]
  },
  {
   "attachments": {},
   "cell_type": "markdown",
   "metadata": {},
   "source": [
    "Recall that the eigenvalue solver needs the action of the inverse of $\\mathbf{K}$. We'll use a conjugate gradient solver for this. One unfortunate side effect of foregoing the explicit matrix representation is that it makes it trickier to precondition the linear solves. Matrix-free preconditioning is beyond the scope of this little tutorial, so we're going to use a sparse Cholesky factorization of the stiffness matrix about the undeformed state.\n",
    "\n",
    "For the current spectral analysis, this is more than a preconditioner - it's the exact inverse, so the CG solver isn't going to do any work. Later on when we do the spectral analysis about the deformed state, we'll reuse this factorization, which will then no longer be exact."
   ]
  },
  {
   "cell_type": "code",
   "execution_count": 15,
   "metadata": {},
   "outputs": [],
   "source": [
    "\n",
    "KFactor = cholmod.cholesky(assemble_sparse_stiffness_matrix(Uu, p))\n",
    "approxKinv = linalg.LinearOperator((n, n), KFactor)\n",
    "Kinv = linalg.LinearOperator((n, n), lambda V: linalg.cg(K, V, atol=0, tol=1e-3, M=approxKinv)[0])\n"
   ]
  },
  {
   "attachments": {},
   "cell_type": "markdown",
   "metadata": {},
   "source": [
    "\n",
    "Now for the mass matrix. The action $\\mathbf{v} \\mapsto \\mathbf{M} \\mathbf{v}$ can be computed by taking the derivative of the kinetic energy function. We'll use reverse mode (`jacrev`), and we'll mark it for just-in-time compilation to speed it up."
   ]
  },
  {
   "cell_type": "code",
   "execution_count": 16,
   "metadata": {},
   "outputs": [],
   "source": [
    "mass_operator = jax.jit(jax.jacrev(compute_kinetic_energy))\n",
    "M = linalg.LinearOperator((n, n), lambda V: onp.asarray(mass_operator(V)))"
   ]
  },
  {
   "cell_type": "code",
   "execution_count": 17,
   "metadata": {},
   "outputs": [],
   "source": [
    "    \n",
    "nModes = 10\n",
    "mu, modes = linalg.eigsh(A=M, k=nModes, M=K, Minv=Kinv, which='LA')\n",
    "lamda = 1/mu\n",
    "\n",
    "lamda0 = lamda[-1]\n",
    "mode0 = dofManager.create_field(modes[:, -1])"
   ]
  },
  {
   "attachments": {},
   "cell_type": "markdown",
   "metadata": {},
   "source": [
    "Since we're at the reference configuration, the exact solution is the same as the linear elastic one. We expect nearly the same answer out of the finite element analysis, with the difference owing to the different interpolation. Furthermore, since the elements are now lower order than before, we expect the structure to be stiffer and hence the fundamental frequency to be greater."
   ]
  },
  {
   "cell_type": "code",
   "execution_count": 18,
   "metadata": {},
   "outputs": [
    {
     "name": "stdout",
     "output_type": "stream",
     "text": [
      "natural circular frequency =  0.024061026754127354\n"
     ]
    }
   ],
   "source": [
    "print(\"natural circular frequency = \", np.sqrt(lamda0))"
   ]
  },
  {
   "attachments": {},
   "cell_type": "markdown",
   "metadata": {},
   "source": [
    "Indeed, the frequency is a bit larger. We'll skip writing the VTK file since the output would be virtually identical to the linear problem."
   ]
  },
  {
   "attachments": {},
   "cell_type": "markdown",
   "metadata": {},
   "source": [
    "## Load the plate and solve for deformation"
   ]
  },
  {
   "attachments": {},
   "cell_type": "markdown",
   "metadata": {},
   "source": [
    "The next step is to set up the solver for the forward problem. The solvers in OptimiSM are based on optimization methods, seeking the solution field by minimizing a suitable scalar functional (here the potential energy). We'll use the default solver, which is a Steihaug trust region-conjugate gradient method, which is a robust and efficient second-order method.\n",
    "\n",
    "Let's grab the default solver settings, which will be good enough for our purposes:"
   ]
  },
  {
   "cell_type": "code",
   "execution_count": 19,
   "metadata": {},
   "outputs": [],
   "source": [
    "solverSettings = EquationSolver.get_settings()\n"
   ]
  },
  {
   "attachments": {},
   "cell_type": "markdown",
   "metadata": {},
   "source": [
    "As an aside, the default settings will allow the preconditioner to be reused over multiple nonlinear iterations and trigger its update lazily - only when the linear CG solver crosses a threshold number of iterations. This can speed up the solver considerably by amortizing the cost of the preconditioner update over several nonlinear iterations. This comes at the cost of additional linear CG iterations as the system moves away from the state in which the preconditioner was updated. Since assembling and factorizing the stiffness matrix is expensive, while CG iterations are cheap, there is a range where this strategy is a net win."
   ]
  },
  {
   "attachments": {},
   "cell_type": "markdown",
   "metadata": {},
   "source": [
    "Now we set $F=2$, which is fairly large (the nominal stress is $F/h = 0.4 E$), so we expect large deformations. Then we launch the solver and get back the updated nodal displacements, `Uu`. The second line is where we update the force $F$ in the parameter set."
   ]
  },
  {
   "cell_type": "code",
   "execution_count": 20,
   "metadata": {},
   "outputs": [
    {
     "name": "stdout",
     "output_type": "stream",
     "text": [
      "Assembling preconditioner 0\n",
      "Factorizing preconditioner\n",
      "\n",
      "Initial objective, residual =  0.0 0.7284313590846835\n",
      "obj=    -0.268236777 , model obj=    -0.268187646 , res=     0.702242114 , model res=     0.701850255 , cg iters=   1 , tr size=          2.0 ,  boundary  , accepted=  True\n",
      "obj=    -0.446309197 , model obj=    -0.446059511 , res=     0.658225702 , model res=     0.657085855 , cg iters=   1 , tr size=          3.5 ,  boundary  , accepted=  True\n",
      "obj=    -0.714118235 , model obj=    -0.712897253 , res=      0.58633993 , model res=      0.58314081 , cg iters=   1 , tr size=        6.125 ,  boundary  , accepted=  True\n",
      "obj=     -1.06278949 , model obj=     -1.05719852 , res=     0.474426957 , model res=     0.465925007 , cg iters=   1 , tr size=      10.7188 ,  boundary  , accepted=  True\n",
      "obj=     -1.36635579 , model obj=     -1.34353563 , res=     0.315087885 , model res=     0.292978946 , cg iters=   1 , tr size=      18.7578 ,  boundary  , accepted=  True\n",
      "obj=     -1.14631708 , model obj=     -1.08250382 , res=     0.177024403 , model res=      0.11173145 , cg iters=   2 , tr size=      32.8262 ,  boundary  , accepted=  True\n",
      "obj=    -0.179358811 , model obj=    -0.179503525 , res=    0.0546153391 , model res=  1.38302453e-06 , cg iters=  18 , tr size=      57.4458 ,  interior  , accepted=  True\n",
      "obj=  -0.00171392591 , model obj=  -0.00170290346 , res=  0.000592538967 , model res=  4.03333283e-07 , cg iters=  18 , tr size=      57.4458 ,  interior  , accepted=  True\n",
      "obj= -4.00626583e-07 , model obj= -4.00532644e-07 , res=  5.27535941e-07 , model res=  2.93297725e-09 , cg iters=  17 , tr size=      57.4458 ,  interior  , accepted=  True\n",
      "obj= -5.24025268e-14 , model obj= -7.35726261e-14 , res=  3.58822762e-10 , model res=  3.58812282e-10 , cg iters=   8 , tr size=      57.4458 ,  interior  , accepted=  True\n",
      "\n"
     ]
    }
   ],
   "source": [
    "\n",
    "force = 2.0\n",
    "p = Objective.param_index_update(p, 0, force) # put current total force in parameter set\n",
    "Uu = EquationSolver.nonlinear_equation_solve(objective, Uu, p, solverSettings, useWarmStart=False)\n"
   ]
  },
  {
   "attachments": {},
   "cell_type": "markdown",
   "metadata": {},
   "source": [
    "Let's write out this state to a VTK file and visualize it."
   ]
  },
  {
   "cell_type": "code",
   "execution_count": 21,
   "metadata": {},
   "outputs": [],
   "source": [
    "U = dofManager.create_field(Uu)\n",
    "writer = VTKWriter.VTKWriter(mesh, baseFileName='nonlinear-beam-modes-deformed')\n",
    "writer.add_nodal_field('displacement', U, VTKWriter.VTKFieldType.VECTORS)\n",
    "writer.write()"
   ]
  },
  {
   "attachments": {},
   "cell_type": "markdown",
   "metadata": {},
   "source": [
    "![deformed configuration](images/nonlinear_deformed_config.png)"
   ]
  },
  {
   "attachments": {},
   "cell_type": "markdown",
   "metadata": {},
   "source": [
    "The black outline shows the initial, undeformed state of the plate. The deformations are rather large, as expected."
   ]
  },
  {
   "attachments": {},
   "cell_type": "markdown",
   "metadata": {},
   "source": [
    "## Spectral analysis about deformed state"
   ]
  },
  {
   "attachments": {},
   "cell_type": "markdown",
   "metadata": {},
   "source": [
    "We repeat the spectral analysis to see how the spectrum has shifted due to the applied load. The mass matrix is invariant, but the stiffness matrix will change siginificantly due to material and geometric nonlinearity. The process here is the same as before, so we repeat the code (in an actual simulation, this would be an obvious candidate for refactoring into a function)."
   ]
  },
  {
   "cell_type": "code",
   "execution_count": 22,
   "metadata": {},
   "outputs": [
    {
     "name": "stdout",
     "output_type": "stream",
     "text": [
      "new circular frequency  0.17640461464560686\n"
     ]
    }
   ],
   "source": [
    "K = linalg.LinearOperator((n, n), lambda V: onp.asarray(objective.hessian_vec(Uu, V)))\n",
    "Kinv = linalg.LinearOperator((n, n), lambda V: linalg.cg(K, V, atol=0, tol=1e-9, M=approxKinv)[0])\n",
    "    \n",
    "nModes = 10\n",
    "mu, modes = linalg.eigsh(A=M, k=nModes, M=K, Minv=Kinv, which='LA')\n",
    "lamda = 1/mu\n",
    "lamda0 = lamda[-1]\n",
    "mode0 = modes[:, -1]\n",
    "\n",
    "print('new circular frequency ', np.sqrt(lamda0))\n",
    "\n",
    "writer.add_nodal_field('mode', dofManager.create_field(mode0), VTKWriter.VTKFieldType.VECTORS)\n",
    "writer.write()"
   ]
  },
  {
   "attachments": {},
   "cell_type": "markdown",
   "metadata": {},
   "source": [
    "The fundamental frequency has increased sevenfold, which is quite dramatic. There are at least two factors shifting the frequency: (1) the Neo-Hookean model gets stiffer with increased stretch, which tends to increase the natural frequency; (2) the mass moment of inertia of the plate increases, since the mass distribution is now spread further from the fixed point at the root. This last effect should tend to decrease the natural frequency. Apparently, the stiffening effect dominates in this case.\n",
    "\n",
    "Let's write out the modal shape to the same VTK file. We can then compose the deformation and the mode shape to see what the vibration mode looks like in the deformed configuration."
   ]
  },
  {
   "cell_type": "code",
   "execution_count": 23,
   "metadata": {},
   "outputs": [],
   "source": [
    "writer.add_nodal_field('mode', dofManager.create_field(mode0), VTKWriter.VTKFieldType.VECTORS)\n",
    "writer.write()"
   ]
  },
  {
   "attachments": {},
   "cell_type": "markdown",
   "metadata": {},
   "source": [
    "![deformed mode shape](images/nonlinear_vibration.gif)"
   ]
  },
  {
   "attachments": {},
   "cell_type": "markdown",
   "metadata": {},
   "source": [
    "The mode shape almost now looks almost like a half-symmetry model of a simply supported plate. The large load at the free end is inhibiting rotation there. "
   ]
  },
  {
   "attachments": {},
   "cell_type": "markdown",
   "metadata": {},
   "source": [
    "## Sensitivity of the natural frequency to the tensile force"
   ]
  },
  {
   "attachments": {},
   "cell_type": "markdown",
   "metadata": {},
   "source": [
    "A designer might wish to know the marginal effect that an applied load has on the fundamental natural frequency. For example, one might want to know how fastener preload affects resonance, or perhaps one wants to use strain engineering to avoid certain resonances.\n",
    "\n",
    "As before, we define the output functional\n",
    "\\begin{equation*}\n",
    "    Q(\\mathbf{u}) = \\frac{ \\mathbf{v}_0^T \\left( \\mathbf{K}(\\mathbf{u}) - \\lambda_0 \\mathbf{M} \\right) \\mathbf{v}_0 }\n",
    "    { \\mathbf{v}_0^T \\mathbf{M} \\mathbf{v}_0 }.\n",
    "\\end{equation*}\n"
   ]
  },
  {
   "cell_type": "code",
   "execution_count": 24,
   "metadata": {},
   "outputs": [],
   "source": [
    "vMv = 2*compute_kinetic_energy(mode0)\n",
    "\n",
    "def Q(Wu):\n",
    "    vKv = np.dot(mode0, objective.hessian_vec(Wu, mode0))\n",
    "    return (vKv - 2*lamda0*compute_kinetic_energy(mode0))/vMv"
   ]
  },
  {
   "attachments": {},
   "cell_type": "markdown",
   "metadata": {},
   "source": [
    "\n",
    "From Seth's notes, we know that the sought sensitivity of the eigenvalue is given by\n",
    "\\begin{equation*}\n",
    "    \\frac{d \\lambda_0(\\mathbf{u})}{d F} = \\frac{d Q(\\mathbf{u})}{dF}\n",
    "\\end{equation*}\n",
    "This is not the whole story, however. What we mean by \"sensitivity to $F$\" is the marginal change in $\\lambda_0$ with respect to applied load $F$ such that *the body remains in equilibrium*. As such, this is a PDE-constrained sensitivity problem.\n",
    "We can express the sensitivity using the residual force operator for the mechanics problem $\\mathbf{r}(\\mathbf{u}, F)$ as\n",
    "\\begin{align*}\n",
    "    \\frac{d Q(\\mathbf{u}(F))}{dF} & & \\text{s.t.} & & \\mathbf{r}(\\mathbf{u}, F) = \\mathbf{0} \\; \\forall F.\n",
    "\\end{align*}\n",
    "\n",
    "This can be solved with the adjoint method. Form the augmented function\n",
    "\\begin{equation*}\n",
    "    L(\\mathbf{u}, F) = Q(\\mathbf{u}) + \\mathbf{a}^T \\mathbf{r}(\\mathbf{u}, F),\n",
    "\\end{equation*}\n",
    "where $\\mathbf{a}$ is the vector of adjoint variables. Since $\\mathbf{r} = 0$ for all $F$, we must have $\\frac{d L}{d F} = \\frac{d Q}{d F}$,\n",
    "which, as noted above, is also equal to the desired sensitivity.\n",
    "Differentiating with respect to $F$ yields\n",
    "\\begin{equation*}\n",
    "    \\frac{d \\lambda_0}{d F} = Q_{, \\mathbf{u}}^T \\mathbf{u}_{, F} + (\\mathbf{a}_{, F})^T \\mathbf{r} + \\mathbf{a}^T \\left( \\mathbf{r}_{, F} + \\mathbf{r}_{,\\mathbf{u}} \\mathbf{u}_{, F} \\right),\n",
    "\\end{equation*}\n",
    "where the comma subscript notation indicates partial differentiation with respect to the trailing subscript variable.\n",
    "The second term vanishes (since $\\mathbf{r} = 0$).\n",
    "Consequently,\n",
    "\\begin{equation*}\n",
    "    \\frac{d \\lambda_0}{d F} = \\left( Q_{, \\mathbf{u}}^T + \\mathbf{a}^T \\mathbf{K} \\right) \\mathbf{u}_{, F}  \n",
    "    + \\mathbf{a}^T \\mathbf{r}_{, F},\n",
    "\\end{equation*}\n",
    "where, by definition, $\\mathbf{K} = \\mathbf{r}_{,\\mathbf{u}}$.\n",
    "We choose the adjoint variables as the solution of\n",
    "\\begin{equation*}\n",
    "    \\mathbf{K}^T \\mathbf{a} = - Q_{, \\mathbf{u}},\n",
    "\\end{equation*}\n",
    "which obviates the need to compute the implicit sensitivities $\\mathbf{u}_F$. \n",
    "The adjoint load $Q_{, \\mathbf{u}}$ follows from a simple use of reverse-mode AD."
   ]
  },
  {
   "cell_type": "code",
   "execution_count": 25,
   "metadata": {},
   "outputs": [],
   "source": [
    "adjointLoad = -jax.grad(Q)(Uu)\n"
   ]
  },
  {
   "attachments": {},
   "cell_type": "markdown",
   "metadata": {},
   "source": [
    "The stiffness matrix is symmetric, so we can drop the tranpose operator in the linear solve for $\\mathbf{a}$."
   ]
  },
  {
   "cell_type": "code",
   "execution_count": 26,
   "metadata": {},
   "outputs": [],
   "source": [
    "adjointDisplacement = linalg.cg(K, onp.array(adjointLoad), tol=1e-10, atol=0.0, M=approxKinv)[0]"
   ]
  },
  {
   "attachments": {},
   "cell_type": "markdown",
   "metadata": {},
   "source": [
    "\n",
    "The sought sensitivities are then found from\n",
    "\\begin{equation*}\n",
    "    \\frac{d \\lambda_0}{d F} = \\mathbf{a}^T \\mathbf{r}_{, F}.\n",
    "\\end{equation*}\n"
   ]
  },
  {
   "attachments": {},
   "cell_type": "markdown",
   "metadata": {},
   "source": [
    "The `Objective` class provides methods for common sensititivities, including this vector-Jacobian product:"
   ]
  },
  {
   "cell_type": "code",
   "execution_count": 27,
   "metadata": {},
   "outputs": [
    {
     "name": "stdout",
     "output_type": "stream",
     "text": [
      "0.005260018819705095\n"
     ]
    }
   ],
   "source": [
    "\n",
    "lamdaPrime = objective.vec_jacobian_p0(Uu, adjointDisplacement)[0]\n",
    "print(lamdaPrime)"
   ]
  },
  {
   "attachments": {},
   "cell_type": "markdown",
   "metadata": {},
   "source": [
    "It's that simple. Notice that with the `Objective` object, which we use for our forward solve, there's almost no additional coding overhead to get adjoint sensitivities, even in a nonlinear problem."
   ]
  },
  {
   "attachments": {},
   "cell_type": "markdown",
   "metadata": {},
   "source": [
    "## Verify the sensitivity\n",
    "\n",
    "Let's do a finite difference approximation to verify this calculation.\n",
    "\n",
    "First, increment the force and then do another solve of the forward problem:"
   ]
  },
  {
   "cell_type": "code",
   "execution_count": 28,
   "metadata": {},
   "outputs": [
    {
     "name": "stdout",
     "output_type": "stream",
     "text": [
      "Assembling preconditioner 0\n",
      "Factorizing preconditioner\n",
      "\n",
      "Initial objective, residual =  -5.185817096609122 3.6421581048726877e-05\n",
      "obj= -2.44591911e-08 , model obj= -2.44587543e-08 , res=  4.56665671e-09 , model res=  1.20570238e-17 , cg iters=   1 , tr size=          2.0 ,  interior  , accepted=  True\n",
      "\n"
     ]
    }
   ],
   "source": [
    "df = 1e-4\n",
    "forcePlus = force + df\n",
    "p = Objective.param_index_update(p, 0, forcePlus)\n",
    "UuPlus = EquationSolver.nonlinear_equation_solve(objective, Uu, p, solverSettings, useWarmStart=False)"
   ]
  },
  {
   "attachments": {},
   "cell_type": "markdown",
   "metadata": {},
   "source": [
    "Now we'll solve the eigenvalue problem about the perturbed state."
   ]
  },
  {
   "cell_type": "code",
   "execution_count": 29,
   "metadata": {},
   "outputs": [],
   "source": [
    "K = linalg.LinearOperator((n, n), lambda V: onp.asarray(objective.hessian_vec(UuPlus, V)))\n",
    "Kinv = linalg.LinearOperator((n, n), lambda V: linalg.cg(K, V, atol=0, tol=1e-9, M=approxKinv)[0])\n",
    "    \n",
    "nModes = 10\n",
    "mu, modes = linalg.eigsh(A=M, k=nModes, M=K, Minv=Kinv, which='LA')\n",
    "lamda0Plus = 1/mu[-1]"
   ]
  },
  {
   "attachments": {},
   "cell_type": "markdown",
   "metadata": {},
   "source": [
    "The forward difference approximation of the frequency sensitivity is then"
   ]
  },
  {
   "cell_type": "code",
   "execution_count": 30,
   "metadata": {},
   "outputs": [
    {
     "name": "stdout",
     "output_type": "stream",
     "text": [
      "finite difference 0.005259191636144966\n"
     ]
    }
   ],
   "source": [
    "lamdaPrimeFD = (lamda0Plus - lamda0)/df\n",
    "print(\"finite difference\", lamdaPrimeFD)"
   ]
  },
  {
   "attachments": {},
   "cell_type": "markdown",
   "metadata": {},
   "source": [
    "The difference is less than two parts per ten thousand."
   ]
  },
  {
   "cell_type": "code",
   "execution_count": 31,
   "metadata": {},
   "outputs": [
    {
     "data": {
      "text/plain": [
       "DeviceArray(0.00015728, dtype=float64)"
      ]
     },
     "execution_count": 31,
     "metadata": {},
     "output_type": "execute_result"
    }
   ],
   "source": [
    "(lamdaPrime-lamdaPrimeFD)/lamdaPrimeFD"
   ]
  }
 ],
 "metadata": {
  "kernelspec": {
   "display_name": "Python 3.9.13 ('venv': venv)",
   "language": "python",
   "name": "python3"
  },
  "language_info": {
   "codemirror_mode": {
    "name": "ipython",
    "version": 3
   },
   "file_extension": ".py",
   "mimetype": "text/x-python",
   "name": "python",
   "nbconvert_exporter": "python",
   "pygments_lexer": "ipython3",
   "version": "3.9.15"
  },
  "vscode": {
   "interpreter": {
    "hash": "d350b21f4b10b49869f084214b140616e7efdffc14f312bd80d7753c6ae8d888"
   }
  }
 },
 "nbformat": 4,
 "nbformat_minor": 2
}
