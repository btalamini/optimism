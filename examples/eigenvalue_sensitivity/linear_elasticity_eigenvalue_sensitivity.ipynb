{
 "cells": [
  {
   "cell_type": "markdown",
   "metadata": {},
   "source": [
    "# Computing the sensitivities of eigenvalues in linear elasticity:\n",
    "# An example with OptimiSM\n",
    "\n",
    "## Introduction\n",
    "\n",
    "This notebook demonstrates spectral analysis of a linear elastic body, and the computation of sensitivities of the fundamental natural frequency to selected design parameters. The sensitivity algorithm could be used, for example, to drive a design optimization program.\n",
    "\n",
    "To keep things simple, the body is chosen to be a cantilevered plate. The design variable is the density, first treated as a scalar value for the entire plate, and then considered as an $L^2$ field that can take piecewise constant values over each finite element."
   ]
  },
  {
   "cell_type": "code",
   "execution_count": 5,
   "metadata": {},
   "outputs": [],
   "source": [
    "from functools import partial\n",
    "import jax\n",
    "import jax.numpy as np\n",
    "from scipy.sparse import linalg\n",
    "from sksparse import cholmod\n",
    "\n",
    "from optimism import Mesh\n",
    "from optimism.FunctionSpace import DofManager, EssentialBC\n",
    "from optimism import FunctionSpace\n",
    "from optimism import Mechanics\n",
    "from optimism.material import LinearElastic\n",
    "from optimism import Objective\n",
    "from optimism import VTKWriter\n",
    "from optimism import QuadratureRule\n",
    "from optimism import SparseMatrixAssembler"
   ]
  },
  {
   "cell_type": "markdown",
   "metadata": {},
   "source": [
    "First, we set up the geometry. The body is a cantilevered plate, which will be assumed to deform in plane strain conditions. We could read in a mesh in the EXODUS/GENESIS format (the native format of Cubit), but for this problem, it's easy enough to generate a structured mesh by hand. We'll construct a plate of thickess $h = 1$ and span $L = 10$, and then create a nodeset on the bottom edge to apply the cantilever boundary conditions. We'll also make the mesh use quadratic elements."
   ]
  },
  {
   "cell_type": "code",
   "execution_count": 6,
   "metadata": {},
   "outputs": [],
   "source": [
    "h = 1.0\n",
    "L = 10.0\n",
    "mesh = Mesh.construct_structured_mesh(Nx=4, Ny=40, xExtent=[0.0, h], yExtent=[0.0, L], elementOrder=2)\n",
    "nodeTol = 1e-8\n",
    "nodeSets = {'bottom': np.flatnonzero(mesh.coords[:,1] < 0 + nodeTol)}\n",
    "mesh = Mesh.mesh_with_nodesets(mesh, nodeSets)"
   ]
  },
  {
   "cell_type": "markdown",
   "metadata": {},
   "source": [
    "The resulting mesh looks like this:"
   ]
  },
  {
   "cell_type": "markdown",
   "metadata": {},
   "source": [
    "![mesh](images/mesh.png)"
   ]
  },
  {
   "cell_type": "markdown",
   "metadata": {},
   "source": [
    "We'll create a quadrature rule that is capable of exactly integrating polynomials up to 4th degree, so that the mass matrix will be exact (the stiffness matrix integraes lower degree polynomials, so it will be exact as well). Then we'll create our discrete function space over our mesh. The function space discovers which degree interpolant it should use from the `mesh` object."
   ]
  },
  {
   "cell_type": "code",
   "execution_count": 7,
   "metadata": {},
   "outputs": [],
   "source": [
    "quadRule = QuadratureRule.create_quadrature_rule_on_triangle(degree=4)\n",
    "fs = FunctionSpace.construct_function_space(mesh, quadRule)"
   ]
  },
  {
   "cell_type": "markdown",
   "metadata": {},
   "source": [
    "The cantilever boundary conditions are applied as follows:"
   ]
  },
  {
   "cell_type": "code",
   "execution_count": 8,
   "metadata": {},
   "outputs": [],
   "source": [
    "ebcs = [EssentialBC(nodeSet='bottom', component=0),\n",
    "        EssentialBC(nodeSet='bottom', component=1)]"
   ]
  },
  {
   "cell_type": "markdown",
   "metadata": {},
   "source": [
    "Then we create a `dofManager` object, which aids tracking of degrees of freedom that are constrained with essential boundary condtions."
   ]
  },
  {
   "cell_type": "code",
   "execution_count": 9,
   "metadata": {},
   "outputs": [],
   "source": [
    "dofManager = DofManager(fs, dim=2, EssentialBCs=ebcs)"
   ]
  },
  {
   "cell_type": "markdown",
   "metadata": {},
   "source": [
    "Now, let's instantiate the material model. The properties are not important for the purpose of this example, so we'll schoose them arbitrarily."
   ]
  },
  {
   "cell_type": "code",
   "execution_count": 10,
   "metadata": {},
   "outputs": [],
   "source": [
    "E = 5.0\n",
    "nu = 0.25\n",
    "rho = 1.0\n",
    "props = {'elastic modulus': E,\n",
    "         'poisson ratio': nu,\n",
    "         'density': rho}\n",
    "material = LinearElastic.create_material_model_functions(props)"
   ]
  },
  {
   "cell_type": "markdown",
   "metadata": {},
   "source": [
    "We instantiate the physics modules, which provide methods for computing energies, residuals, and related operations."
   ]
  },
  {
   "cell_type": "code",
   "execution_count": 11,
   "metadata": {},
   "outputs": [],
   "source": [
    "solidStatics = Mechanics.create_mechanics_functions(fs, 'plane strain', material)\n",
    "solidDynamics = Mechanics.create_dynamics_functions(fs, 'plane strain', material, Mechanics.NewmarkParameters)"
   ]
  },
  {
   "cell_type": "markdown",
   "metadata": {},
   "source": [
    "## Spectral analysis"
   ]
  },
  {
   "cell_type": "markdown",
   "metadata": {},
   "source": [
    "SciPy conveniently provides the symmetric sparse matrix eigensolver interface `eigsh` in the `scipy.sparse` package.  (Under the hood, this calls down to an interative Lanczos method in ARPACK). \n",
    "There are several possiblities to code our finite element methods to this interface. The simplest way is to explicitly assemble the stiffness and mass matrices in sparse matrix data structures and pass them to the solver directly.\n",
    "Another option is to provide functions that give the action of the system matrices on a vector using the finite element assembly operators. For now, let's keep the explanation simple and choose the matrix route. Later, we'll demonstrate how to get the implicit matrix action representation and will show that it's also easy to do.\n",
    "\n",
    "Let's define functions to assemble the stiffness and mass matrices in a SciPy sparse matrix (compressed sparse row format). There are methods in the physics module that do the work for us:"
   ]
  },
  {
   "cell_type": "code",
   "execution_count": 12,
   "metadata": {},
   "outputs": [],
   "source": [
    "def assemble_sparse_stiffness_matrix(Uu, p):\n",
    "    U = dofManager.create_field(Uu)\n",
    "    internalVariables = p.state_data\n",
    "    elementStiffnesses = solidStatics.compute_element_stiffnesses(U, internalVariables)\n",
    "    return SparseMatrixAssembler.assemble_sparse_stiffness_matrix(\n",
    "        elementStiffnesses, mesh.conns, dofManager)\n",
    "\n",
    "def assemble_sparse_mass_matrix():\n",
    "    elementMasses = solidDynamics.compute_element_masses()\n",
    "    return SparseMatrixAssembler.assemble_sparse_stiffness_matrix(\n",
    "        elementMasses, mesh.conns, dofManager)"
   ]
  },
  {
   "cell_type": "markdown",
   "metadata": {},
   "source": [
    "The generalized eigenvalue problem for vibrations is usually written in the form\n",
    "\\begin{equation}\n",
    "    \\mathbf{K} \\mathbf{v}_i = \\lambda_i \\mathbf{M} \\mathbf{v}_i,\n",
    "\\end{equation}\n",
    "where $\\mathbf{K}$ is the stiffness matrix, $\\mathbf{M}$ is the mass matrix, $\\lambda_i$ are the squares of the natural (circular) frequencies, and $\\mathbf{v}_i$ are the corresponding eigenmodes.\n",
    "We want to search for the smallest eigenvalue of the system, since that is often the critical resonance of interest in applications. However, iterative eigensolvers are most efficient in searching for the *largest* eigenvalues. There are a number of methods to deal with this problem; we will approach it by defining the reciprocal frequencies $\\mu_i := \\lambda_i^{-1}$ and rewriting the eigenproblem as\n",
    "\\begin{equation}\n",
    "    \\mathbf{M} \\mathbf{v}_i = \\mu_i \\mathbf{K} \\mathbf{v}_i.\n",
    "\\end{equation}\n",
    "We then search for the $n$ largest $\\mu$-eigenvalues (let's say $n=10$ to be concrete).\n",
    "In this mode of operation, `eigsh` needs the action of the inverse of the stiffness matrix. \n",
    "Since we've already chosen to explicitly form $\\mathbf{K}$, we might as well use a Cholesky factorization for this purpose.\n",
    "We use the `cholmod` module in `sksparse` (which is a wrapper for the well-known CHOLDMOD package from SuiteSparse)."
   ]
  },
  {
   "cell_type": "code",
   "execution_count": 16,
   "metadata": {},
   "outputs": [],
   "source": [
    "Uu = np.zeros(dofManager.get_unknown_size()) # set displacement field to zero\n",
    "state = solidStatics.compute_initial_state() # intialize internal state variables (this material has none)\n",
    "p = Objective.Params(None, state)\n",
    "K = assemble_sparse_stiffness_matrix(Uu, p)\n",
    "M = assemble_sparse_mass_matrix()\n",
    "    \n",
    "KFactor = cholmod.cholesky(K)\n",
    "Kinv = linalg.LinearOperator(K.shape, KFactor)\n",
    "    \n",
    "nModes = 10\n",
    "mu, modes = linalg.eigsh(A=M, k=nModes, M=K, Minv=Kinv, which='LA')"
   ]
  },
  {
   "cell_type": "markdown",
   "metadata": {},
   "source": [
    "Now we have our eigenvalues and eigenvectors. Recall that we really want the reciprocals of these, so let's do that operation. The eigenvalues are returned in ascending order, so the fundamental eigenvalue is actually going to be the *last* one in the list (in NumPy terms, the \"-1\" index). We'll also grab the fundamental mode and call it `Vu0`. (Note: `lamda` isn't a typo, it's avoiding a collision with the Python `lambda` keyword.)"
   ]
  },
  {
   "cell_type": "code",
   "execution_count": 17,
   "metadata": {},
   "outputs": [],
   "source": [
    "lamda = 1/mu\n",
    "lamda0 = lamda[-1]\n",
    "Vu0 = modes[:, -1]"
   ]
  },
  {
   "cell_type": "markdown",
   "metadata": {},
   "source": [
    "Let's write out the mode to a VTK file so we can inspect it:"
   ]
  },
  {
   "cell_type": "code",
   "execution_count": 18,
   "metadata": {},
   "outputs": [],
   "source": [
    "writer = VTKWriter.VTKWriter(mesh, baseFileName='beam-vibration')\n",
    "V0 = dofManager.create_field(Vu0)\n",
    "writer.add_nodal_field('mode_0', V0, VTKWriter.VTKFieldType.VECTORS)\n",
    "writer.write()"
   ]
  },
  {
   "cell_type": "markdown",
   "metadata": {},
   "source": [
    "This writes the results to the file `beam-vibration.vtk`. Here is an animation of the mode created in ParaView:"
   ]
  },
  {
   "cell_type": "markdown",
   "metadata": {},
   "source": [
    "![](images/mode0.gif)"
   ]
  },
  {
   "cell_type": "markdown",
   "metadata": {},
   "source": [
    "The fundamental mode looks as expected - it's the quasi-static bending mode.\n",
    "The exact solution for the fundamental natrual frequency is\n",
    "\\begin{equation}\n",
    "    \\omega_0 = 1.875^2 \\sqrt{\\frac{Eh^2}{12(1 - \\nu^2) \\rho L^4}}.\n",
    "\\end{equation}\n",
    "Let's compare this with the numerical answer."
   ]
  },
  {
   "cell_type": "code",
   "execution_count": 19,
   "metadata": {},
   "outputs": [
    {
     "name": "stdout",
     "output_type": "stream",
     "text": [
      "exact natural frequency:  0.0234375\n",
      "numerical natural frequency: 0.023298050290143358\n"
     ]
    }
   ],
   "source": [
    "exactNaturalFrequency = 1.875**2*np.sqrt(E/(1-nu**2)*(h**2/12)/rho/L**4)\n",
    "print('exact natural frequency: ', exactNaturalFrequency)\n",
    "print('numerical natural frequency:', np.sqrt(lamda0))"
   ]
  },
  {
   "cell_type": "markdown",
   "metadata": {},
   "source": [
    "This is an error of less than 1% - not bad! If we wish, we could decrease the error with mesh refinement."
   ]
  },
  {
   "cell_type": "markdown",
   "metadata": {},
   "source": [
    "## Computing sensitivity of an eigenvalue to a scalar parameter\n",
    "\n",
    "Imagine now the system physics are parameterized by some design variable.\n",
    "We wish to find the sensitivity of any particular eigenvalue to this parameter.\n",
    "To keep things simple, we will assume that the eigenvalue is not repeated.\n",
    "Differentiating the generalized eigenproblem yields\n",
    "\n",
    "\\begin{equation*}\n",
    "    \\mathbf{K}' \\mathbf{v}_i + \\mathbf{K} \\mathbf{v}'_i =\n",
    "    \\lambda'_i \\mathbf{M} \\mathbf{v}_i + \\lambda_i \\mathbf{M}' \\mathbf{v}_i + \\lambda_i \\mathbf{M}_i \\mathbf{v}'_i,\n",
    "\\end{equation*}\n",
    "\n",
    "where the prime symbol indicates differentiation with respect to the parameter.\n",
    "We can multiply both sides on the left by the eigenvector to get\n",
    "\n",
    "\\begin{equation*}\n",
    "    \\mathbf{v}^T_i \\mathbf{K}' \\mathbf{v}_i + \\mathbf{v}^T_i \\mathbf{K} \\mathbf{v}'_i =\n",
    "    \\lambda'_i \\mathbf{v}^T_i \\mathbf{M} \\mathbf{v}_i + \\lambda_i \\mathbf{v}^T_i \\mathbf{M}' \\mathbf{v}_i \n",
    "    + \\lambda_i \\mathbf{v}^T_i \\mathbf{M}_i \\mathbf{v}'_i.\n",
    "\\end{equation*}\n",
    "\n",
    "By moving terms around and using transpose operations, we can rewrite this as\n",
    "\n",
    "\\begin{equation*}\n",
    "    \\lambda'_i \\mathbf{v}^T_i \\mathbf{M} \\mathbf{v}_i = \n",
    "    \\mathbf{v}^T_i \\mathbf{K}' \\mathbf{v}_i\n",
    "    - \\lambda_i \\mathbf{v}^T_i \\mathbf{M}' \\mathbf{v}_i \n",
    "    + (\\mathbf{v}'_i)^T \\left( \\mathbf{K}^T \\mathbf{v}_i - \\lambda_i \\mathbf{M}^T \\mathbf{v}_i \\right).\n",
    "\\end{equation*}\n",
    "\n",
    "But recall that $\\mathbf{K}$ and $\\mathbf{M}$ are symmetric; hence the expression in parentheses is $\\mathbf{K} \\mathbf{v}_i - \\lambda_i \\mathbf{M} \\mathbf{v}_i$, which vanishes, because $\\lambda_i$ and $\\mathbf{v}_i$ together satisfy the generalized eigenvalue problem.\n",
    "Hence the sought sensitivity expression is\n",
    "\n",
    "\\begin{equation}\n",
    "    \\lambda_i' = \n",
    "    \\frac{\\mathbf{v}_i^T \\left( \\mathbf{K}' - \\lambda_i \\mathbf{M}' \\right) \\mathbf{v}_i}{\\mathbf{v}_i^T \\mathbf{M} \\mathbf{v}_i}.\n",
    "    \\tag{3}\n",
    "\\end{equation}\n",
    "\n",
    "Let's start with a simple sensitivity problem.\n",
    "We will take the density $\\rho$ to be the design parameter and compute the derivative $\\frac{d \\lambda_0}{d \\rho}$, where the density is taken to be spatially homogeneous (that is, a single value for the whole body).\n",
    "We can compute the answer for this analytically, making it a useful verification problem.\n",
    "\n",
    "It's clear that only the mass matrix depends on this parameter. We'll pretend we don't know this to emulate the more general case where both $\\mathbf{K}$ and $\\mathbf{M}$ depend on the parameter.\n",
    "To implement the sensitivity embodied in equation (3), we implement functions for the potential energy and the kinetic energy:"
   ]
  },
  {
   "cell_type": "code",
   "execution_count": 20,
   "metadata": {},
   "outputs": [],
   "source": [
    "def compute_potential_energy(Uu, p):\n",
    "    U = dofManager.create_field(Uu)\n",
    "    internalVariables = p[1]\n",
    "    return solidStatics.compute_strain_energy(U, internalVariables)\n",
    "    \n",
    "def compute_parameterized_kinetic_energy(Vu, density):\n",
    "    def lagrangian_density(w, gradw, q, x, dt):\n",
    "        return 0.5*density*np.dot(w, w)\n",
    "    \n",
    "    V = dofManager.create_field(Vu)\n",
    "    dtUnused = 0.0\n",
    "    return FunctionSpace.integrate_over_block(fs, V, state, dtUnused, lagrangian_density, mesh.blocks['block_0'])"
   ]
  },
  {
   "cell_type": "markdown",
   "metadata": {},
   "source": [
    "Conveniently, we can use the `compute_strain_energy()` method provided by the `solidStatics` object. There is a also a function for computing the kinetic energy in the `solidDynamics` object, but notice we didn't use it. We re-implmented this function to expose `density` as an argument so that we can differentiate with respect to it.\n",
    "\n",
    "The stiffness matrix is the discrete representation of the second variation of the potential energy functional. We can obtain the action of this operator by taking derivatives with automatic differentiation. Let's take the first derivative of the potential energy with respect to displacement, which is the residual operator (or its negative, depending on your preferred sign convention)."
   ]
  },
  {
   "cell_type": "code",
   "execution_count": 21,
   "metadata": {},
   "outputs": [],
   "source": [
    "residual = jax.jacrev(partial(compute_potential_energy, p=p), 0)"
   ]
  },
  {
   "cell_type": "markdown",
   "metadata": {},
   "source": [
    "This derivative was taken with reverse mode (an adjoint derivative), which is the appropriate choice, since we are taking the derivative of a scalar function with respect to many nodal degrees of freedom. Note that `jacrev` produces a *function* that takes the same arguments as the primal function. (The `partial` is a partial function evalutation, just fixing the internal state variable argument so we don't need to keep passing the same value in repeatedly.)\n",
    "\n",
    "The action of the stiffness matrix on a vector of nodal unknowns, $\\mathbf{w} \\mapsto \\mathbf{K} \\mathbf{w}$, is the directional derivative of the residual in the direction $\\mathbf{w}$. We can use another Jax method for this, `jvp` (for \"Jacobian-vector product\"):"
   ]
  },
  {
   "cell_type": "code",
   "execution_count": 22,
   "metadata": {},
   "outputs": [],
   "source": [
    "def stiffness_action(W):\n",
    "    return jax.jvp(residual, (Uu,), (W,))[1]"
   ]
  },
  {
   "cell_type": "markdown",
   "metadata": {},
   "source": [
    "This linearizes `residual` at the argument `Uu` in the direction `W`. The `[1]` index gets the derivative; taking `[0]` would get the value of the function.\n",
    "\n",
    "We could do similar AD operations on the kinetic energy function to get the action of the mass matrix. But since we're the term we're trying to assemble is a quadratic form, and the kinetic energy is *already* a quadratic form, we can make use of the kinetic energy function directly. That is, we will compute the mass term $\\lambda_0 \\mathbf{v}_0^T \\mathbf{M} \\mathbf{v}_0$ as\n",
    "\\begin{equation*}\n",
    "    \\lambda_0 \\mathbf{v}_0^T \\mathbf{M} \\mathbf{v}_0 = 2 \\lambda_0 T(\\boldsymbol{v}_0),\n",
    "\\end{equation*}\n",
    "where $T$ is the kinetic energy functional\n",
    "\\begin{equation*}\n",
    "    T(\\boldsymbol{w}) = \\int_{\\Omega} \\frac{1}{2} \\rho \\boldsymbol{w} \\cdot \\boldsymbol{w} \\, dv.\n",
    "\\end{equation*}\n",
    "\n",
    "To compute the sensitivity in equation (3), we will define the function\n",
    "\\begin{equation*}\n",
    "    Q(\\rho) = \\frac{\\mathbf{v}_0^T \\left( \\mathbf{K}(\\rho) - \\lambda_0 \\mathbf{M}(\\rho) \\right) \\mathbf{v}}{\\mathbf{v}_0^T \\mathbf{M} \\mathbf{v}_0},\n",
    "\\end{equation*}\n",
    "and then differentiate it. Note that the $\\mathbf{v}_0$, $\\lambda_0$, and the denominator of this function are regarded as contants."
   ]
  },
  {
   "cell_type": "code",
   "execution_count": 23,
   "metadata": {},
   "outputs": [
    {
     "name": "stdout",
     "output_type": "stream",
     "text": [
      "-0.0005427991473220492\n"
     ]
    }
   ],
   "source": [
    "rayleighDenominator = np.dot(Vu0, M@Vu0)\n",
    "\n",
    "def Q(density):\n",
    "    numerator = np.dot(Vu0, stiffness_action(Vu0)) - 2*lamda0*compute_parameterized_kinetic_energy(Vu0, density)\n",
    "    return numerator / rayleighDenominator\n",
    "\n",
    "lamdaPrime = jax.grad(Q)(rho)\n",
    "print(lamdaPrime)"
   ]
  },
  {
   "cell_type": "markdown",
   "metadata": {},
   "source": [
    "To verify this, let's compare with the exact solution. Using the square of equation (1), we have\n",
    "\\begin{equation*}\n",
    "    \\frac{d \\lambda_0}{d \\rho} = - \\frac{\\lambda_0}{\\rho}\n",
    "    \\tag{2}\n",
    "\\end{equation*}\n"
   ]
  },
  {
   "cell_type": "code",
   "execution_count": 24,
   "metadata": {},
   "outputs": [
    {
     "name": "stdout",
     "output_type": "stream",
     "text": [
      "-0.00054931640625\n"
     ]
    }
   ],
   "source": [
    "exactLamdaPrime = -exactNaturalFrequency**2/rho\n",
    "print(exactLamdaPrime)"
   ]
  },
  {
   "cell_type": "markdown",
   "metadata": {},
   "source": [
    "Our work checks out: this is only an error of about 1% (again due to the discretization)."
   ]
  },
  {
   "cell_type": "markdown",
   "metadata": {},
   "source": [
    "## Computing sensitivity of an eigenvalue to a field"
   ]
  },
  {
   "cell_type": "markdown",
   "metadata": {},
   "source": [
    "Let's make the sensitivity problem more interesting. Let the density now be a piecewise constant field that can take on different values on each finite element. OptimiSM has facilities for this: the `integrate_over_block` method accepts variadic arguments at the end to pass as parameters to the functions it integrates. We'll use this to parameterize the kinetic energy with the element-wise density values:"
   ]
  },
  {
   "cell_type": "code",
   "execution_count": 25,
   "metadata": {},
   "outputs": [],
   "source": [
    "def compute_parameterized_kinetic_energy2(Vu, internalVars, densities):\n",
    "    V = dofManager.create_field(Vu)\n",
    "    def lagrangian_density(u, gradu, Q, X, dt, density):\n",
    "        return Mechanics.kinetic_energy_density(u, density)\n",
    "    dtUnused = 0.0\n",
    "    return FunctionSpace.integrate_over_block(fs, V, internalVars, dtUnused, lagrangian_density, mesh.blocks['block_0'], densities)\n",
    "\n",
    "def Q2(densities):\n",
    "    numerator = np.dot(Vu0, stiffness_action(Vu0)) - 2*lamda0*compute_parameterized_kinetic_energy2(Vu0, state, densities)\n",
    "    return numerator / rayleighDenominator"
   ]
  },
  {
   "cell_type": "markdown",
   "metadata": {},
   "source": [
    "Then take a reverse-mode derivative of the `Q2` functional to get a function that yields the sensitivities of the eigenvalue to each element density value:"
   ]
  },
  {
   "cell_type": "code",
   "execution_count": 26,
   "metadata": {},
   "outputs": [],
   "source": [
    "compute_eigenvalue_sensitivity = jax.jacrev(Q2)"
   ]
  },
  {
   "cell_type": "markdown",
   "metadata": {},
   "source": [
    "As a verification measure, we can take the sensitivity of the eigenvalue to a uniform change in the density field and check that it is equal to the sensitivity of the eigenvalue to the uniform density computed above:"
   ]
  },
  {
   "cell_type": "code",
   "execution_count": 27,
   "metadata": {},
   "outputs": [
    {
     "name": "stdout",
     "output_type": "stream",
     "text": [
      "-0.0005427991473220492\n"
     ]
    }
   ],
   "source": [
    "rhoField = rho*np.ones(Mesh.num_elements(mesh))\n",
    "lPrime = compute_eigenvalue_sensitivity(rhoField)\n",
    "print(np.sum(lPrime))"
   ]
  },
  {
   "cell_type": "markdown",
   "metadata": {},
   "source": [
    "This checks out with the result above. Now let's write this computed sensitivity field to the VTK file (recall that it is `beam-vibration.vtk`):"
   ]
  },
  {
   "cell_type": "code",
   "execution_count": 28,
   "metadata": {},
   "outputs": [],
   "source": [
    "writer.add_cell_field('eigenvalue_sensitivity', lPrime, VTKWriter.VTKFieldType.SCALARS)\n",
    "writer.write()"
   ]
  },
  {
   "cell_type": "markdown",
   "metadata": {},
   "source": [
    "If you open the file in ParaView and visualize the `eigenvalue_sensitivity` field, it should look like this:"
   ]
  },
  {
   "cell_type": "markdown",
   "metadata": {},
   "source": [
    "![eigenvalue sensitivity field](images/eigenvalue_sensitivity_field.bmp)"
   ]
  },
  {
   "cell_type": "markdown",
   "metadata": {},
   "source": [
    "This field seems to make sense; the sensitivity is zero at the root of the plate where the constraints keep it stationary, and increase in magnitude as you move towards the free end. The sign of the sensitivity is negative everywhere, since a marginal increase in mass retards the motion and depresses the vibration frequency.\n",
    "\n",
    "This technique can be extended to nonlinear problems with the AD capabilities furnished by Jax and embedded in OptimiSM. We illustrate this in the next example."
   ]
  }
 ],
 "metadata": {
  "kernelspec": {
   "display_name": "Python 3.9.13 ('venv': venv)",
   "language": "python",
   "name": "python3"
  },
  "language_info": {
   "codemirror_mode": {
    "name": "ipython",
    "version": 3
   },
   "file_extension": ".py",
   "mimetype": "text/x-python",
   "name": "python",
   "nbconvert_exporter": "python",
   "pygments_lexer": "ipython3",
   "version": "3.9.13 (main, May 21 2022, 02:36:32) \n[Clang 13.0.0 (clang-1300.0.29.3)]"
  },
  "vscode": {
   "interpreter": {
    "hash": "d350b21f4b10b49869f084214b140616e7efdffc14f312bd80d7753c6ae8d888"
   }
  }
 },
 "nbformat": 4,
 "nbformat_minor": 2
}
